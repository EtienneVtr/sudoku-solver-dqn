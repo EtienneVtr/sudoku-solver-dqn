{
 "cells": [
  {
   "cell_type": "markdown",
   "metadata": {},
   "source": [
    "# Preprocess the data"
   ]
  },
  {
   "cell_type": "code",
   "execution_count": 1,
   "metadata": {},
   "outputs": [],
   "source": [
    "# Libraries\n",
    "import pandas as pd"
   ]
  },
  {
   "cell_type": "code",
   "execution_count": 3,
   "metadata": {},
   "outputs": [],
   "source": [
    "# Open the CSV file\n",
    "df = pd.read_csv(r\"C:\\Users\\etien\\Telecom\\sudoku.csv\\sudoku.csv\")"
   ]
  },
  {
   "cell_type": "code",
   "execution_count": 13,
   "metadata": {},
   "outputs": [
    {
     "name": "stdout",
     "output_type": "stream",
     "text": [
      "                                              puzzle  \\\n",
      "0  0700000430400096108006349000940520003584600200...   \n",
      "1  3010865040465210705000000014008000020803479000...   \n",
      "2  0483015603600080909106700030200009355090102006...   \n",
      "3  0083170000042051090000400703271609049014500000...   \n",
      "4  0408906300001368208007405190004670524500207002...   \n",
      "\n",
      "                                            solution  \n",
      "0  6795182435437296188216349577943521863584617292...  \n",
      "1  3719865248465213795924738614638197522853479167...  \n",
      "2  7483915623652487919126754834217869355894132766...  \n",
      "3  2983176457642851391539462783271689549814537266...  \n",
      "4  1428956379751368248367425193984671524513287962...  \n",
      "Puzzle :  070000043040009610800634900094052000358460020000800530080070091902100005007040802\n",
      "Solution :  679518243543729618821634957794352186358461729216897534485276391962183475137945862\n"
     ]
    }
   ],
   "source": [
    "# Print the first 5 rows\n",
    "print(df.head())\n",
    "\n",
    "# Print the first row\n",
    "print(\"Puzzle : \", df.iloc[0][\"puzzle\"])\n",
    "print(\"Solution : \", df.iloc[0][\"solution\"])"
   ]
  },
  {
   "cell_type": "code",
   "execution_count": 15,
   "metadata": {},
   "outputs": [
    {
     "name": "stdout",
     "output_type": "stream",
     "text": [
      "9000000\n",
      "81\n"
     ]
    }
   ],
   "source": [
    "# Print the number of rows\n",
    "print(df.shape[0])\n",
    "print(len(df.iloc[0][\"puzzle\"]))"
   ]
  }
 ],
 "metadata": {
  "kernelspec": {
   "display_name": "Python 3",
   "language": "python",
   "name": "python3"
  },
  "language_info": {
   "codemirror_mode": {
    "name": "ipython",
    "version": 3
   },
   "file_extension": ".py",
   "mimetype": "text/x-python",
   "name": "python",
   "nbconvert_exporter": "python",
   "pygments_lexer": "ipython3",
   "version": "3.12.7"
  }
 },
 "nbformat": 4,
 "nbformat_minor": 2
}
