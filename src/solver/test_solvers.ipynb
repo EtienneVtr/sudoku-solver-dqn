{
 "cells": [
  {
   "cell_type": "markdown",
   "metadata": {},
   "source": [
    "# This file was made to test different algorithms for finding Sudoku solutions. \n",
    "**The algorithms are:**\n",
    "- Backtracking with heuristics\n",
    "- DLX\n",
    "- SAT Solvers\n",
    "- Linear Programming\n",
    "- DLX with different heuristics"
   ]
  },
  {
   "cell_type": "code",
   "execution_count": 1,
   "metadata": {},
   "outputs": [],
   "source": [
    "# First, we want to import the necessary libraries\n",
    "import numpy as np\n",
    "import pandas as pd"
   ]
  },
  {
   "cell_type": "code",
   "execution_count": null,
   "metadata": {},
   "outputs": [],
   "source": [
    "# Then we want to read the data from the csv file\n",
    "sudokus = pd.read_csv(r\"C:\\Users\\etien\\Telecom\\sudoku.csv\\sudoku.csv\")\n",
    "\n",
    "# We only want to keep 3000 random sudoku puzzles\n",
    "sudokus = sudokus.sample(n=3000)"
   ]
  }
 ],
 "metadata": {
  "kernelspec": {
   "display_name": "sudoku_env",
   "language": "python",
   "name": "python3"
  },
  "language_info": {
   "codemirror_mode": {
    "name": "ipython",
    "version": 3
   },
   "file_extension": ".py",
   "mimetype": "text/x-python",
   "name": "python",
   "nbconvert_exporter": "python",
   "pygments_lexer": "ipython3",
   "version": "3.12.7"
  }
 },
 "nbformat": 4,
 "nbformat_minor": 2
}
